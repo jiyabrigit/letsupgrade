{
  "nbformat": 4,
  "nbformat_minor": 0,
  "metadata": {
    "colab": {
      "name": "Assgn 1.ipynb",
      "provenance": [],
      "collapsed_sections": []
    },
    "kernelspec": {
      "name": "python3",
      "display_name": "Python 3"
    }
  },
  "cells": [
    {
      "cell_type": "code",
      "metadata": {
        "id": "N9FNGTGuKifN",
        "outputId": "35894805-b00d-48d5-ce39-2ff6d4450965",
        "colab": {
          "base_uri": "https://localhost:8080/"
        }
      },
      "source": [
        "#qn 1\n",
        "\n",
        "word=input()\n",
        "if(word=='OBANWRI'):\n",
        "  print('RAINBOW')"
      ],
      "execution_count": 1,
      "outputs": [
        {
          "output_type": "stream",
          "text": [
            "OBANWRI\n",
            "RAINBOW\n"
          ],
          "name": "stdout"
        }
      ]
    },
    {
      "cell_type": "code",
      "metadata": {
        "id": "PxBaC3r-LWlk",
        "outputId": "142aaa05-24b1-4409-8760-b1382a05e199",
        "colab": {
          "base_uri": "https://localhost:8080/"
        }
      },
      "source": [
        "#qn 2\n",
        "\n",
        "print('LETS UPGRADE')"
      ],
      "execution_count": 2,
      "outputs": [
        {
          "output_type": "stream",
          "text": [
            "LETS UPGRADE\n"
          ],
          "name": "stdout"
        }
      ]
    },
    {
      "cell_type": "code",
      "metadata": {
        "id": "dfkGcNrALk-J",
        "outputId": "37dcdb5b-033f-4251-b8b8-059e6e9bbcad",
        "colab": {
          "base_uri": "https://localhost:8080/"
        }
      },
      "source": [
        "#qn 3\n",
        "\n",
        "cp=int(input())\n",
        "sp=int(input())\n",
        "if(sp>cp):\n",
        "  print(\"Profit\")\n",
        "elif(sp==cp):\n",
        "  print(\"Neither\")\n",
        "else:\n",
        "  print(\"Loss\")"
      ],
      "execution_count": 3,
      "outputs": [
        {
          "output_type": "stream",
          "text": [
            "20\n",
            "30\n",
            "Profit\n"
          ],
          "name": "stdout"
        }
      ]
    },
    {
      "cell_type": "code",
      "metadata": {
        "id": "1YjqfUTtLlQY",
        "outputId": "1eb4bf65-f282-4d3c-8a6d-c922044272d2",
        "colab": {
          "base_uri": "https://localhost:8080/"
        }
      },
      "source": [
        "#qn 4\n",
        "\n",
        "amt=int(input())\n",
        "euro=80\n",
        "money=amt*euro\n",
        "print(money)\n",
        "\n"
      ],
      "execution_count": 4,
      "outputs": [
        {
          "output_type": "stream",
          "text": [
            "2\n",
            "160\n"
          ],
          "name": "stdout"
        }
      ]
    }
  ]
}