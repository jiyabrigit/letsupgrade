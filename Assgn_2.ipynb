{
  "nbformat": 4,
  "nbformat_minor": 0,
  "metadata": {
    "colab": {
      "name": "Assgn 2.ipynb",
      "provenance": []
    },
    "kernelspec": {
      "name": "python3",
      "display_name": "Python 3"
    }
  },
  "cells": [
    {
      "cell_type": "code",
      "metadata": {
        "id": "2LOS8EHPOtWg",
        "outputId": "dbb4c21e-20a5-4bc9-a17a-c5223c3571b6",
        "colab": {
          "base_uri": "https://localhost:8080/"
        }
      },
      "source": [
        "#qn 1\n",
        "\n",
        "num=[]\n",
        "i=1\n",
        "while(i<=10):\n",
        "  no=int(input())\n",
        "  if(no%2==0):\n",
        "    num.append(no)\n",
        "  i=i+1\n",
        "print(num)\n",
        "\n"
      ],
      "execution_count": 4,
      "outputs": [
        {
          "output_type": "stream",
          "text": [
            "10\n",
            "2\n",
            "1\n",
            "3\n",
            "5\n",
            "7\n",
            "9\n",
            "4\n",
            "12\n",
            "3\n",
            "[10, 2, 4, 12]\n"
          ],
          "name": "stdout"
        }
      ]
    },
    {
      "cell_type": "code",
      "metadata": {
        "id": "bdtcBuKqP7fD",
        "outputId": "f4cb4ff4-8bde-4b59-bc89-f7fe5c696dfa",
        "colab": {
          "base_uri": "https://localhost:8080/"
        }
      },
      "source": [
        "#qn 2\n",
        "\n",
        "string=input()\n",
        "comp=[letter for letter in string]\n",
        "print(comp)\n",
        "\n"
      ],
      "execution_count": 5,
      "outputs": [
        {
          "output_type": "stream",
          "text": [
            "upgrade\n",
            "['u', 'p', 'g', 'r', 'a', 'd', 'e']\n"
          ],
          "name": "stdout"
        }
      ]
    },
    {
      "cell_type": "code",
      "metadata": {
        "id": "TixYTp1zRHSH",
        "outputId": "f4f087a4-ea24-4a90-f9d7-054f493fb047",
        "colab": {
          "base_uri": "https://localhost:8080/"
        }
      },
      "source": [
        "#qn 3\n",
        "n=int(input())\n",
        "d = {}\n",
        "\n",
        "for x in range(1,n+1):\n",
        "    d[x]=x*x\n",
        "\n",
        "print(d) "
      ],
      "execution_count": 6,
      "outputs": [
        {
          "output_type": "stream",
          "text": [
            "4\n",
            "{1: 1, 2: 4, 3: 9, 4: 16}\n"
          ],
          "name": "stdout"
        }
      ]
    },
    {
      "cell_type": "code",
      "metadata": {
        "id": "Y_aCiLKBoxoX",
        "outputId": "1f63f338-1f85-497c-e09b-5666a37e4404",
        "colab": {
          "base_uri": "https://localhost:8080/"
        }
      },
      "source": [
        "#qn 4\n",
        "\n",
        "import math\n",
        "pos=[0,0]\n",
        "moves={\"UP\":[0,1],\n",
        "       \"DOWN\":[0,-1],\n",
        "       \"LEFT\":[-1,0],\n",
        "       \"RIGHT\":[1,0]}\n",
        "data=[\"UP 5\",\n",
        "    \"DOWN 3\",\n",
        "    \"LEFT 3\",\n",
        "    \"RIGHT 2\"]\n",
        "for inp in data:\n",
        "    parts=inp.split()    \n",
        "    mv=parts[0]\n",
        "    val=parts[1]\n",
        "    if mv in moves and val.isnumeric():\n",
        "        pos[0] += moves[mv][0]*int(val)\n",
        "        pos[1] += moves[mv][1]*int(val)\n",
        "   \n",
        "distance=math.sqrt(pos[0]**2 + pos[1]**2)\n",
        "\n",
        "print(int(distance))\n"
      ],
      "execution_count": 10,
      "outputs": [
        {
          "output_type": "stream",
          "text": [
            "2\n"
          ],
          "name": "stdout"
        }
      ]
    }
  ]
}