{
  "nbformat": 4,
  "nbformat_minor": 0,
  "metadata": {
    "colab": {
      "name": "Assgn 3.ipynb",
      "provenance": []
    },
    "kernelspec": {
      "name": "python3",
      "display_name": "Python 3"
    }
  },
  "cells": [
    {
      "cell_type": "code",
      "metadata": {
        "id": "e7clKNt5supq",
        "outputId": "35811c99-e610-43be-e388-b8daaccd2a5a",
        "colab": {
          "base_uri": "https://localhost:8080/"
        }
      },
      "source": [
        "#qn 1\n",
        "import numpy as np\n",
        "arr= np.arange(2,50,3)\n",
        "print(arr)"
      ],
      "execution_count": 5,
      "outputs": [
        {
          "output_type": "stream",
          "text": [
            "[ 2  5  8 11 14 17 20 23 26 29 32 35 38 41 44 47]\n"
          ],
          "name": "stdout"
        }
      ]
    },
    {
      "cell_type": "code",
      "metadata": {
        "id": "GRitxaKrtEJe",
        "outputId": "30ed0d09-0540-4d8e-e404-efc32ba6f801",
        "colab": {
          "base_uri": "https://localhost:8080/"
        }
      },
      "source": [
        "#qn 2\n",
        "\n",
        "import numpy as np\n",
        "l1=[]\n",
        "l2=[]\n",
        "i=0\n",
        "j=0\n",
        "while(i<5):\n",
        "  n=int(input())\n",
        "  l1.append(n)\n",
        "  i=i+1\n",
        "while(j<5):\n",
        "  n=int(input())\n",
        "  l2.append(n)\n",
        "  j=j+1\n",
        "a1=np.array(l1)\n",
        "a2=np.array(l2)\n",
        "a3=np.concatenate((a1,a2),axis=0)\n",
        "print(a3)\n",
        "a4=np.sort(a3)\n",
        "print(a4)\n"
      ],
      "execution_count": 15,
      "outputs": [
        {
          "output_type": "stream",
          "text": [
            "2\n",
            "4\n",
            "6\n",
            "8\n",
            "10\n",
            "1\n",
            "3\n",
            "5\n",
            "7\n",
            "9\n",
            "[ 2  4  6  8 10  1  3  5  7  9]\n",
            "[ 1  2  3  4  5  6  7  8  9 10]\n"
          ],
          "name": "stdout"
        }
      ]
    },
    {
      "cell_type": "code",
      "metadata": {
        "id": "3zg5TXcp0Sh_",
        "outputId": "bfeec62e-7b88-4c54-b0db-7b42dd904aa8",
        "colab": {
          "base_uri": "https://localhost:8080/"
        }
      },
      "source": [
        "#qn 3\n",
        "\n",
        "import numpy as np\n",
        "arr = np.array( [[ 1, 2, 3],\n",
        "                 [ 4, 2, 5],[3,6,9]] )\n",
        "print(arr.ndim)\n",
        "print(arr.size)\n"
      ],
      "execution_count": 17,
      "outputs": [
        {
          "output_type": "stream",
          "text": [
            "2\n",
            "9\n"
          ],
          "name": "stdout"
        }
      ]
    },
    {
      "cell_type": "code",
      "metadata": {
        "id": "QSt-l06N2C8A",
        "outputId": "62865e9f-4d92-46a2-ca9c-57559387a3a0",
        "colab": {
          "base_uri": "https://localhost:8080/"
        }
      },
      "source": [
        "#qn 4\n",
        "\n",
        "#We can convert the dimension using reshape function\n",
        "\n",
        "l1=[]\n",
        "i=0\n",
        "while(i<10):\n",
        "  n=input()\n",
        "  l1.append(n)\n",
        "  i=i+1\n",
        "arr = np.array(l1)\n",
        "n=input()\n",
        "arr_2d = np.reshape(arr, (2,5))\n",
        "print(arr_2d)\n"
      ],
      "execution_count": 22,
      "outputs": [
        {
          "output_type": "stream",
          "text": [
            "1\n",
            "2\n",
            "3\n",
            "4\n",
            "5\n",
            "6\n",
            "7\n",
            "8\n",
            "9\n",
            "0\n",
            "2\n",
            "[['1' '2' '3' '4' '5']\n",
            " ['6' '7' '8' '9' '0']]\n"
          ],
          "name": "stdout"
        }
      ]
    }
  ]
}